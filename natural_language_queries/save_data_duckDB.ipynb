{
 "cells": [
  {
   "cell_type": "code",
   "execution_count": 2,
   "metadata": {},
   "outputs": [],
   "source": [
    "import duckdb\n",
    "import pandas as pd\n",
    "import calendar\n",
    "from pybaseball import statcast, batting_stats_range, pitching_stats_range"
   ]
  },
  {
   "cell_type": "code",
   "execution_count": 5,
   "metadata": {},
   "outputs": [],
   "source": [
    "def store_statcast_data(year, con):\n",
    "    # Fetch data month by month to manage memory\n",
    "    for month in range(1, 13):  # Adjust month range if needed\n",
    "        # Get the correct last day of the month\n",
    "        last_day = calendar.monthrange(year, month)[1]\n",
    "        start_date = f\"{year}-{month:02d}-01\"\n",
    "        end_date = f\"{year}-{month:02d}-{last_day}\"\n",
    "\n",
    "        # Fetch data\n",
    "        df = statcast(start_dt=start_date, end_dt=end_date)\n",
    "\n",
    "        # If the DataFrame is empty, skip DuckDB operations\n",
    "        if df.empty:\n",
    "            print(f\"No data found for {start_date} to {end_date}, skipping...\")\n",
    "            continue\n",
    "\n",
    "        # Store in DuckDB\n",
    "        con.execute(\"\"\"\n",
    "        CREATE TABLE IF NOT EXISTS statcast_data AS \n",
    "        SELECT * FROM df WHERE 1=0\n",
    "        \"\"\")\n",
    "        con.execute(\"INSERT INTO statcast_data SELECT * FROM df\")\n",
    "\n",
    "\n",
    "\n",
    "def store_batting_data(year, con):\n",
    "    # Fetch data month by month to manage memory\n",
    "    for month in range(1, 13):  # Adjust month range if needed\n",
    "        # Get the correct last day of the month\n",
    "        last_day = calendar.monthrange(year, month)[1]\n",
    "        start_date = f\"{year}-{month:02d}-01\"\n",
    "        end_date = f\"{year}-{month:02d}-{last_day}\"\n",
    "\n",
    "        # Fetch data\n",
    "        try:    \n",
    "            df = batting_stats_range(start_dt=start_date, end_dt=end_date)\n",
    "        except:\n",
    "            print(f'data for month {month} not found')\n",
    "            continue\n",
    "\n",
    "        # If the DataFrame is empty, skip DuckDB operations\n",
    "        if df.empty:\n",
    "            print(f\"No data found for {start_date} to {end_date}, skipping...\")\n",
    "            continue\n",
    "\n",
    "        # Store in DuckDB\n",
    "        con.execute(\"\"\"\n",
    "        CREATE TABLE IF NOT EXISTS batting_data AS \n",
    "        SELECT * FROM df WHERE 1=0\n",
    "        \"\"\")\n",
    "        con.execute(\"INSERT INTO batting_data SELECT * FROM df\")"
   ]
  },
  {
   "cell_type": "code",
   "execution_count": null,
   "metadata": {},
   "outputs": [],
   "source": [
    "con = duckdb.connect('statcast_2024_full.db')\n",
    "# Example usage\n",
    "store_statcast_data(2024, con)"
   ]
  },
  {
   "cell_type": "code",
   "execution_count": null,
   "metadata": {},
   "outputs": [],
   "source": [
    "con = duckdb.connect('batting_stats_2024_full.db')\n",
    "# Example usage\n",
    "store_batting_data(2024, con)"
   ]
  },
  {
   "cell_type": "code",
   "execution_count": null,
   "metadata": {},
   "outputs": [],
   "source": []
  }
 ],
 "metadata": {
  "kernelspec": {
   "display_name": "Python 3",
   "language": "python",
   "name": "python3"
  },
  "language_info": {
   "codemirror_mode": {
    "name": "ipython",
    "version": 3
   },
   "file_extension": ".py",
   "mimetype": "text/x-python",
   "name": "python",
   "nbconvert_exporter": "python",
   "pygments_lexer": "ipython3",
   "version": "3.10.16"
  }
 },
 "nbformat": 4,
 "nbformat_minor": 2
}
